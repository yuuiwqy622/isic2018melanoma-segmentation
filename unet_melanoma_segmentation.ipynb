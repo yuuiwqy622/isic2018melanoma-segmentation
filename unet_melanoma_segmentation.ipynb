{
 "cells": [
  {
   "cell_type": "code",
   "execution_count": 1,
   "metadata": {},
   "outputs": [
    {
     "name": "stdout",
     "output_type": "stream",
     "text": [
      "INFO:tensorflow:Enabling eager execution\n",
      "INFO:tensorflow:Enabling v2 tensorshape\n",
      "INFO:tensorflow:Enabling resource variables\n",
      "INFO:tensorflow:Enabling tensor equality\n",
      "INFO:tensorflow:Enabling control flow v2\n"
     ]
    }
   ],
   "source": [
    "from tensorflow import keras\n",
    "from tensorflow.keras import Model\n",
    "from tensorflow.keras.layers import Input, Conv2D, MaxPool2D, UpSampling2D, Concatenate, Dropout\n",
    "import tensorflow as tf\n",
    "import kerastuner as kt\n",
    "from itertools import product\n",
    "from tensorflow.keras.preprocessing.image import ImageDataGenerator"
   ]
  },
  {
   "cell_type": "markdown",
   "metadata": {},
   "source": [
    "# Tune U-net model on real data"
   ]
  },
  {
   "cell_type": "code",
   "execution_count": 2,
   "metadata": {},
   "outputs": [],
   "source": [
    "def get_model(optimizer, learning_rate, dropout_rate):\n",
    "    INPUT_SIZE = (256, 256, 1)\n",
    "\n",
    "    # Contracting path\n",
    "    inputs = Input(shape=INPUT_SIZE)\n",
    "    conv1 = Conv2D(filters=64, kernel_size=3, activation='relu',\n",
    "                padding = 'same', kernel_initializer = 'he_normal')(inputs)\n",
    "    conv1=Conv2D(filters = 64, kernel_size = 3, activation = 'relu',\n",
    "                padding = 'same', kernel_initializer = 'he_normal')(conv1)\n",
    "    pool1=MaxPool2D(pool_size = 2)(conv1)\n",
    "\n",
    "    conv2=Conv2D(filters = 128, kernel_size = 3, activation = 'relu',\n",
    "                padding = 'same', kernel_initializer = 'he_normal')(pool1)\n",
    "    conv2=Conv2D(filters = 128, kernel_size = 3, activation = 'relu',\n",
    "                padding = 'same', kernel_initializer = 'he_normal')(conv2)\n",
    "    pool2=MaxPool2D(pool_size = 2)(conv2)\n",
    "\n",
    "    conv3=Conv2D(filters = 256, kernel_size = 3, activation = 'relu',\n",
    "                padding = 'same', kernel_initializer = 'he_normal')(pool2)\n",
    "    conv3=Conv2D(filters = 256, kernel_size = 3, activation = 'relu',\n",
    "                padding = 'same', kernel_initializer = 'he_normal')(conv3)\n",
    "    pool3=MaxPool2D(pool_size = 2)(conv3)\n",
    "\n",
    "    conv4=Conv2D(filters = 512, kernel_size = 3, activation = 'relu',\n",
    "                padding = 'same', kernel_initializer = 'he_normal')(pool3)\n",
    "    conv4=Conv2D(filters = 512, kernel_size = 3, activation = 'relu',\n",
    "                padding = 'same', kernel_initializer = 'he_normal')(conv4)\n",
    "    # Drop out layers are not present in the diagram of U-net architecture,\n",
    "    # but it is mentioned in paper https://arxiv.org/pdf/1505.04597v1.pdf,\n",
    "    # that there are placed at the end of the contracting path.\n",
    "    drop4=Dropout(dropout_rate)(conv4)\n",
    "    pool4=MaxPool2D(pool_size = 2)(drop4)\n",
    "\n",
    "    conv5=Conv2D(filters = 1024, kernel_size = 3, activation = 'relu',\n",
    "                padding = 'same', kernel_initializer = 'he_normal')(pool4)\n",
    "    conv5=Conv2D(filters = 1024, kernel_size = 3, activation = 'relu',\n",
    "                padding = 'same', kernel_initializer = 'he_normal')(conv5)\n",
    "    drop5=Dropout(dropout_rate)(conv5)\n",
    "\n",
    "    # Expanding path\n",
    "    up6=UpSampling2D(size = 2)(drop5)\n",
    "    up6=Conv2D(filters = 512, kernel_size = 2, activation = 'relu', padding = 'same',\n",
    "                kernel_initializer = 'he_normal')(up6)\n",
    "    copy6=Concatenate(axis = 3)([drop4, up6])\n",
    "    conv6=Conv2D(filters = 512, kernel_size = 3, activation = 'relu', padding = 'same',\n",
    "                kernel_initializer = 'he_normal')(copy6)\n",
    "    conv6=Conv2D(filters = 512, kernel_size = 3, activation = 'relu', padding = 'same',\n",
    "                kernel_initializer = 'he_normal')(conv6)\n",
    "\n",
    "    up7=UpSampling2D(size = 2)(conv6)\n",
    "    up7=Conv2D(filters = 256, kernel_size = 2, activation = 'relu', padding = 'same',\n",
    "                kernel_initializer = 'he_normal')(up7)\n",
    "    copy7=Concatenate(axis = 3)([conv3, up7])\n",
    "    conv7=Conv2D(filters = 256, kernel_size = 3, activation = 'relu', padding = 'same',\n",
    "                kernel_initializer = 'he_normal')(copy7)\n",
    "    conv7=Conv2D(filters = 256, kernel_size = 3, activation = 'relu', padding = 'same',\n",
    "                kernel_initializer = 'he_normal')(conv7)\n",
    "\n",
    "    up8=UpSampling2D(size = 2)(conv7)\n",
    "    up8=Conv2D(filters = 128, kernel_size = 2, activation = 'relu', padding = 'same',\n",
    "                kernel_initializer = 'he_normal')(up8)\n",
    "    copy8=Concatenate(axis = 3)([conv2, up8])\n",
    "    conv8=Conv2D(filters = 128, kernel_size = 3, activation = 'relu', padding = 'same',\n",
    "                kernel_initializer = 'he_normal')(copy8)\n",
    "    conv8=Conv2D(filters = 128, kernel_size = 3, activation = 'relu', padding = 'same',\n",
    "                kernel_initializer = 'he_normal')(conv8)\n",
    "\n",
    "    up9=Conv2D(filters = 64, kernel_size = 2, activation = 'relu', padding = 'same',\n",
    "                kernel_initializer = 'he_normal')(UpSampling2D(size=(2, 2))(conv8))\n",
    "    copy9=Concatenate(axis = 3)([conv1, up9])\n",
    "    conv9=Conv2D(filters = 64, kernel_size = 3, activation = 'relu', padding = 'same',\n",
    "                kernel_initializer = 'he_normal')(copy9)\n",
    "    conv9=Conv2D(filters = 64, kernel_size = 3, activation = 'relu', padding = 'same',\n",
    "                kernel_initializer = 'he_normal')(conv9)\n",
    "    conv9=Conv2D(filters = 2, kernel_size = 3, activation = 'relu', padding = 'same',\n",
    "                kernel_initializer = 'he_normal')(conv9)\n",
    "    conv10=Conv2D(filters = 1, kernel_size = 1, activation = 'sigmoid')(conv9)\n",
    "\n",
    "    model=Model(inputs = inputs, outputs = conv10)\n",
    "\n",
    "    model.compile(optimizer = tf.keras.optimizers.Adam(learning_rate=learning_rate),\n",
    "                loss = 'binary_crossentropy',\n",
    "                 metrics = [tf.keras.metrics.MeanIoU])\n",
    "    model.summary()\n",
    "\n",
    "    return model"
   ]
  },
  {
   "cell_type": "code",
   "execution_count": 3,
   "metadata": {},
   "outputs": [],
   "source": [
    "HYPERPARAMETERS = {\n",
    "    'batch_size': [8, 16, 32, 64],\n",
    "    'optimizer': [tf.keras.optimizers.Adam, tf.keras.optimizers.Adagrad, tf.keras.optimizers.SGD],\n",
    "    'learning_rate': [1e-2, 1e-3, 1e-4],\n",
    "    'dropout_rate': [i/10 for i in range(6)]\n",
    "}"
   ]
  },
  {
   "cell_type": "markdown",
   "metadata": {},
   "source": [
    "### Data generator is used in order not to store all images and segmentation masks in memory at once"
   ]
  },
  {
   "cell_type": "code",
   "execution_count": 4,
   "metadata": {},
   "outputs": [],
   "source": [
    "# Normalilze [-1, 1] input images\n",
    "def preprocess_image(img):\n",
    "    img = img.astype('float32')\n",
    "    img = (img - 127.5) / 127.5\n",
    "    return img\n",
    "\n",
    "# Make mask a binary mask\n",
    "def preprocess_mask(mask):\n",
    "    mask[mask > 0] = 1\n",
    "    return mask"
   ]
  },
  {
   "cell_type": "code",
   "execution_count": 5,
   "metadata": {},
   "outputs": [],
   "source": [
    "image_generator = ImageDataGenerator(\n",
    "    preprocessing_function=preprocess_image)\n",
    "mask_generator = ImageDataGenerator(\n",
    "    preprocessing_function=preprocess_mask)"
   ]
  },
  {
   "cell_type": "code",
   "execution_count": 8,
   "metadata": {},
   "outputs": [
    {
     "name": "stdout",
     "output_type": "stream",
     "text": [
      "Found 2594 images belonging to 1 classes.\n",
      "Found 2594 images belonging to 1 classes.\n"
     ]
    }
   ],
   "source": [
    "flow_args = {\n",
    "    'batch_size': 32,\n",
    "    'directory': 'dataset',\n",
    "    'shuffle': True,\n",
    "    'target_size': (256, 256),\n",
    "    'class_mode': None,\n",
    "    'subset': 'training',\n",
    "    'seed': 1\n",
    "}\n",
    "\n",
    "train_generator = zip(\n",
    "    image_generator.flow_from_directory(classes=['image'], **flow_args),\n",
    "    mask_generator.flow_from_directory(classes=['mask'], **flow_args)\n",
    ")\n"
   ]
  }
 ],
 "metadata": {
  "kernelspec": {
   "display_name": "Python 3",
   "language": "python",
   "name": "python3"
  },
  "language_info": {
   "codemirror_mode": {
    "name": "ipython",
    "version": 3
   },
   "file_extension": ".py",
   "mimetype": "text/x-python",
   "name": "python",
   "nbconvert_exporter": "python",
   "pygments_lexer": "ipython3",
   "version": "3.9.2"
  }
 },
 "nbformat": 4,
 "nbformat_minor": 4
}
