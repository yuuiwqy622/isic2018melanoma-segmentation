{
 "cells": [
  {
   "cell_type": "code",
   "execution_count": 17,
   "metadata": {},
   "outputs": [],
   "source": [
    "from tensorflow import keras\n",
    "from tensorflow.keras import Model\n",
    "from tensorflow.keras.layers import Input, Conv2D, MaxPool2D, UpSampling2D, Concatenate\n",
    "import tensorflow as tf"
   ]
  },
  {
   "cell_type": "code",
   "execution_count": 18,
   "metadata": {},
   "outputs": [
    {
     "ename": "ValueError",
     "evalue": "Could not interpret optimizer identifier: <tensorflow.python.keras.optimizer_v2.adam.Adam object at 0x7fa7e04fe220>",
     "output_type": "error",
     "traceback": [
      "\u001b[0;31m---------------------------------------------------------------------------\u001b[0m",
      "\u001b[0;31mValueError\u001b[0m                                Traceback (most recent call last)",
      "\u001b[0;32m<ipython-input-18-4a46908d9bfd>\u001b[0m in \u001b[0;36m<module>\u001b[0;34m\u001b[0m\n\u001b[1;32m     72\u001b[0m \u001b[0mmodel\u001b[0m \u001b[0;34m=\u001b[0m \u001b[0mModel\u001b[0m\u001b[0;34m(\u001b[0m\u001b[0minputs\u001b[0m\u001b[0;34m=\u001b[0m\u001b[0minputs\u001b[0m\u001b[0;34m,\u001b[0m \u001b[0moutputs\u001b[0m\u001b[0;34m=\u001b[0m\u001b[0mconv10\u001b[0m\u001b[0;34m)\u001b[0m\u001b[0;34m\u001b[0m\u001b[0;34m\u001b[0m\u001b[0m\n\u001b[1;32m     73\u001b[0m \u001b[0;34m\u001b[0m\u001b[0m\n\u001b[0;32m---> 74\u001b[0;31m model.compile(optimizer=tf.keras.optimizers.Adam(),\n\u001b[0m\u001b[1;32m     75\u001b[0m               loss='binary_crossentropy', metrics=['accuracy'])\n\u001b[1;32m     76\u001b[0m \u001b[0mmodel\u001b[0m\u001b[0;34m.\u001b[0m\u001b[0msummary\u001b[0m\u001b[0;34m(\u001b[0m\u001b[0;34m)\u001b[0m\u001b[0;34m\u001b[0m\u001b[0;34m\u001b[0m\u001b[0m\n",
      "\u001b[0;32m~/cvut/bpr/venv/lib/python3.9/site-packages/keras/engine/training.py\u001b[0m in \u001b[0;36mcompile\u001b[0;34m(self, optimizer, loss, metrics, loss_weights, weighted_metrics, run_eagerly, steps_per_execution, **kwargs)\u001b[0m\n\u001b[1;32m    546\u001b[0m       \u001b[0mself\u001b[0m\u001b[0;34m.\u001b[0m\u001b[0m_run_eagerly\u001b[0m \u001b[0;34m=\u001b[0m \u001b[0mrun_eagerly\u001b[0m\u001b[0;34m\u001b[0m\u001b[0;34m\u001b[0m\u001b[0m\n\u001b[1;32m    547\u001b[0m \u001b[0;34m\u001b[0m\u001b[0m\n\u001b[0;32m--> 548\u001b[0;31m       \u001b[0mself\u001b[0m\u001b[0;34m.\u001b[0m\u001b[0moptimizer\u001b[0m \u001b[0;34m=\u001b[0m \u001b[0mself\u001b[0m\u001b[0;34m.\u001b[0m\u001b[0m_get_optimizer\u001b[0m\u001b[0;34m(\u001b[0m\u001b[0moptimizer\u001b[0m\u001b[0;34m)\u001b[0m\u001b[0;34m\u001b[0m\u001b[0;34m\u001b[0m\u001b[0m\n\u001b[0m\u001b[1;32m    549\u001b[0m       self.compiled_loss = compile_utils.LossesContainer(\n\u001b[1;32m    550\u001b[0m           loss, loss_weights, output_names=self.output_names)\n",
      "\u001b[0;32m~/cvut/bpr/venv/lib/python3.9/site-packages/keras/engine/training.py\u001b[0m in \u001b[0;36m_get_optimizer\u001b[0;34m(self, optimizer)\u001b[0m\n\u001b[1;32m    584\u001b[0m       \u001b[0;32mreturn\u001b[0m \u001b[0mopt\u001b[0m\u001b[0;34m\u001b[0m\u001b[0;34m\u001b[0m\u001b[0m\n\u001b[1;32m    585\u001b[0m \u001b[0;34m\u001b[0m\u001b[0m\n\u001b[0;32m--> 586\u001b[0;31m     \u001b[0;32mreturn\u001b[0m \u001b[0mtf\u001b[0m\u001b[0;34m.\u001b[0m\u001b[0mnest\u001b[0m\u001b[0;34m.\u001b[0m\u001b[0mmap_structure\u001b[0m\u001b[0;34m(\u001b[0m\u001b[0m_get_single_optimizer\u001b[0m\u001b[0;34m,\u001b[0m \u001b[0moptimizer\u001b[0m\u001b[0;34m)\u001b[0m\u001b[0;34m\u001b[0m\u001b[0;34m\u001b[0m\u001b[0m\n\u001b[0m\u001b[1;32m    587\u001b[0m \u001b[0;34m\u001b[0m\u001b[0m\n\u001b[1;32m    588\u001b[0m   \u001b[0;34m@\u001b[0m\u001b[0mtrackable\u001b[0m\u001b[0;34m.\u001b[0m\u001b[0mno_automatic_dependency_tracking\u001b[0m\u001b[0;34m\u001b[0m\u001b[0;34m\u001b[0m\u001b[0m\n",
      "\u001b[0;32m~/cvut/bpr/venv/lib/python3.9/site-packages/tensorflow/python/util/nest.py\u001b[0m in \u001b[0;36mmap_structure\u001b[0;34m(func, *structure, **kwargs)\u001b[0m\n\u001b[1;32m    865\u001b[0m \u001b[0;34m\u001b[0m\u001b[0m\n\u001b[1;32m    866\u001b[0m   return pack_sequence_as(\n\u001b[0;32m--> 867\u001b[0;31m       \u001b[0mstructure\u001b[0m\u001b[0;34m[\u001b[0m\u001b[0;36m0\u001b[0m\u001b[0;34m]\u001b[0m\u001b[0;34m,\u001b[0m \u001b[0;34m[\u001b[0m\u001b[0mfunc\u001b[0m\u001b[0;34m(\u001b[0m\u001b[0;34m*\u001b[0m\u001b[0mx\u001b[0m\u001b[0;34m)\u001b[0m \u001b[0;32mfor\u001b[0m \u001b[0mx\u001b[0m \u001b[0;32min\u001b[0m \u001b[0mentries\u001b[0m\u001b[0;34m]\u001b[0m\u001b[0;34m,\u001b[0m\u001b[0;34m\u001b[0m\u001b[0;34m\u001b[0m\u001b[0m\n\u001b[0m\u001b[1;32m    868\u001b[0m       expand_composites=expand_composites)\n\u001b[1;32m    869\u001b[0m \u001b[0;34m\u001b[0m\u001b[0m\n",
      "\u001b[0;32m~/cvut/bpr/venv/lib/python3.9/site-packages/tensorflow/python/util/nest.py\u001b[0m in \u001b[0;36m<listcomp>\u001b[0;34m(.0)\u001b[0m\n\u001b[1;32m    865\u001b[0m \u001b[0;34m\u001b[0m\u001b[0m\n\u001b[1;32m    866\u001b[0m   return pack_sequence_as(\n\u001b[0;32m--> 867\u001b[0;31m       \u001b[0mstructure\u001b[0m\u001b[0;34m[\u001b[0m\u001b[0;36m0\u001b[0m\u001b[0;34m]\u001b[0m\u001b[0;34m,\u001b[0m \u001b[0;34m[\u001b[0m\u001b[0mfunc\u001b[0m\u001b[0;34m(\u001b[0m\u001b[0;34m*\u001b[0m\u001b[0mx\u001b[0m\u001b[0;34m)\u001b[0m \u001b[0;32mfor\u001b[0m \u001b[0mx\u001b[0m \u001b[0;32min\u001b[0m \u001b[0mentries\u001b[0m\u001b[0;34m]\u001b[0m\u001b[0;34m,\u001b[0m\u001b[0;34m\u001b[0m\u001b[0;34m\u001b[0m\u001b[0m\n\u001b[0m\u001b[1;32m    868\u001b[0m       expand_composites=expand_composites)\n\u001b[1;32m    869\u001b[0m \u001b[0;34m\u001b[0m\u001b[0m\n",
      "\u001b[0;32m~/cvut/bpr/venv/lib/python3.9/site-packages/keras/engine/training.py\u001b[0m in \u001b[0;36m_get_single_optimizer\u001b[0;34m(opt)\u001b[0m\n\u001b[1;32m    575\u001b[0m \u001b[0;34m\u001b[0m\u001b[0m\n\u001b[1;32m    576\u001b[0m     \u001b[0;32mdef\u001b[0m \u001b[0m_get_single_optimizer\u001b[0m\u001b[0;34m(\u001b[0m\u001b[0mopt\u001b[0m\u001b[0;34m)\u001b[0m\u001b[0;34m:\u001b[0m\u001b[0;34m\u001b[0m\u001b[0;34m\u001b[0m\u001b[0m\n\u001b[0;32m--> 577\u001b[0;31m       \u001b[0mopt\u001b[0m \u001b[0;34m=\u001b[0m \u001b[0moptimizers\u001b[0m\u001b[0;34m.\u001b[0m\u001b[0mget\u001b[0m\u001b[0;34m(\u001b[0m\u001b[0mopt\u001b[0m\u001b[0;34m)\u001b[0m\u001b[0;34m\u001b[0m\u001b[0;34m\u001b[0m\u001b[0m\n\u001b[0m\u001b[1;32m    578\u001b[0m       if (loss_scale is not None and\n\u001b[1;32m    579\u001b[0m           not isinstance(opt, lso.LossScaleOptimizer)):\n",
      "\u001b[0;32m~/cvut/bpr/venv/lib/python3.9/site-packages/keras/optimizers.py\u001b[0m in \u001b[0;36mget\u001b[0;34m(identifier)\u001b[0m\n\u001b[1;32m    130\u001b[0m     \u001b[0;32mreturn\u001b[0m \u001b[0mdeserialize\u001b[0m\u001b[0;34m(\u001b[0m\u001b[0mconfig\u001b[0m\u001b[0;34m)\u001b[0m\u001b[0;34m\u001b[0m\u001b[0;34m\u001b[0m\u001b[0m\n\u001b[1;32m    131\u001b[0m   \u001b[0;32melse\u001b[0m\u001b[0;34m:\u001b[0m\u001b[0;34m\u001b[0m\u001b[0;34m\u001b[0m\u001b[0m\n\u001b[0;32m--> 132\u001b[0;31m     raise ValueError(\n\u001b[0m\u001b[1;32m    133\u001b[0m         'Could not interpret optimizer identifier: {}'.format(identifier))\n",
      "\u001b[0;31mValueError\u001b[0m: Could not interpret optimizer identifier: <tensorflow.python.keras.optimizer_v2.adam.Adam object at 0x7fa7e04fe220>"
     ]
    }
   ],
   "source": [
    "INPUT_SIZE = (256, 256, 1)\n",
    "\n",
    "# Contracting path\n",
    "inputs = Input(shape=INPUT_SIZE)\n",
    "conv1 = Conv2D(filters=64, kernel_size=3, activation='relu',\n",
    "               padding='same', kernel_initializer='he_normal')(inputs)\n",
    "conv1 = Conv2D(filters=64, kernel_size=3, activation='relu',\n",
    "               padding='same', kernel_initializer='he_normal')(conv1)\n",
    "pool1 = MaxPool2D(pool_size=2)(conv1)\n",
    "\n",
    "conv2 = Conv2D(filters=128, kernel_size=3, activation='relu',\n",
    "               padding='same', kernel_initializer='he_normal')(pool1)\n",
    "conv2 = Conv2D(filters=128, kernel_size=3, activation='relu',\n",
    "               padding='same', kernel_initializer='he_normal')(conv2)\n",
    "pool2 = MaxPool2D(pool_size=2)(conv2)\n",
    "\n",
    "conv3 = Conv2D(filters=256, kernel_size=3, activation='relu',\n",
    "               padding='same', kernel_initializer='he_normal')(pool2)\n",
    "conv3 = Conv2D(filters=256, kernel_size=3, activation='relu',\n",
    "               padding='same', kernel_initializer='he_normal')(conv3)\n",
    "pool3 = MaxPool2D(pool_size=2)(conv3)\n",
    "\n",
    "conv4 = Conv2D(filters=512, kernel_size=3, activation='relu',\n",
    "               padding='same', kernel_initializer='he_normal')(pool3)\n",
    "conv4 = Conv2D(filters=512, kernel_size=3, activation='relu',\n",
    "               padding='same', kernel_initializer='he_normal')(conv4)\n",
    "pool4 = MaxPool2D(pool_size=2)(conv4)\n",
    "\n",
    "conv5 = Conv2D(filters=1024, kernel_size=3, activation='relu',\n",
    "               padding='same', kernel_initializer='he_normal')(pool4)\n",
    "conv5 = Conv2D(filters=1024, kernel_size=3, activation='relu',\n",
    "               padding='same', kernel_initializer='he_normal')(conv5)\n",
    "# Expanding path\n",
    "up6 = UpSampling2D(size=2)(conv5)\n",
    "up6 = Conv2D(filters=512, kernel_size=2, activation='relu', padding='same',\n",
    "             kernel_initializer='he_normal')(up6)\n",
    "copy6 = Concatenate(axis=3)([conv4, up6])\n",
    "conv6 = Conv2D(filters=512, kernel_size=3, activation='relu', padding='same',\n",
    "               kernel_initializer='he_normal')(copy6)\n",
    "conv6 = Conv2D(filters=512, kernel_size=3, activation='relu', padding='same',\n",
    "               kernel_initializer='he_normal')(conv6)\n",
    "\n",
    "up7 = UpSampling2D(size=2)(conv6)\n",
    "up7 = Conv2D(filters=256, kernel_size=2, activation='relu', padding='same',\n",
    "             kernel_initializer='he_normal')(up7)\n",
    "copy7 = Concatenate(axis=3)([conv3, up7])\n",
    "conv7 = Conv2D(filters=256, kernel_size=3, activation='relu', padding='same',\n",
    "               kernel_initializer='he_normal')(copy7)\n",
    "conv7 = Conv2D(filters=256, kernel_size=3, activation='relu', padding='same',\n",
    "               kernel_initializer='he_normal')(conv7)\n",
    "\n",
    "up8 = UpSampling2D(size=2)(conv7)\n",
    "up8 = Conv2D(filters=128, kernel_size=2, activation='relu', padding='same',\n",
    "             kernel_initializer='he_normal')(up8)\n",
    "copy8 = Concatenate(axis=3)([conv2, up8])\n",
    "conv8 = Conv2D(filters=128, kernel_size=3, activation='relu', padding='same',\n",
    "               kernel_initializer='he_normal')(copy8)\n",
    "conv8 = Conv2D(filters=128, kernel_size=3, activation='relu', padding='same',\n",
    "               kernel_initializer='he_normal')(conv8)\n",
    "\n",
    "up9 = Conv2D(filters=64, kernel_size=2, activation='relu', padding='same',\n",
    "             kernel_initializer='he_normal')(UpSampling2D(size=(2, 2))(conv8))\n",
    "copy9 = Concatenate(axis=3)([conv1, up9])\n",
    "conv9 = Conv2D(filters=64, kernel_size=3, activation='relu', padding='same',\n",
    "               kernel_initializer='he_normal')(copy9)\n",
    "conv9 = Conv2D(filters=64, kernel_size=3, activation='relu', padding='same',\n",
    "               kernel_initializer='he_normal')(conv9)\n",
    "conv9 = Conv2D(filters=2, kernel_size=3, activation='relu', padding='same',\n",
    "               kernel_initializer='he_normal')(conv9)\n",
    "conv10 = Conv2D(filters=1, kernel_size=1, activation='sigmoid')(conv9)\n",
    "\n",
    "model = Model(inputs=inputs, outputs=conv10)\n",
    "\n",
    "model.compile(optimizer=tf.keras.optimizers.Adam(),\n",
    "              loss='binary_crossentropy', metrics=['accuracy'])\n",
    "model.summary()\n"
   ]
  }
 ],
 "metadata": {
  "kernelspec": {
   "display_name": "Python 3",
   "language": "python",
   "name": "python3"
  },
  "language_info": {
   "codemirror_mode": {
    "name": "ipython",
    "version": 3
   },
   "file_extension": ".py",
   "mimetype": "text/x-python",
   "name": "python",
   "nbconvert_exporter": "python",
   "pygments_lexer": "ipython3",
   "version": "3.9.2"
  }
 },
 "nbformat": 4,
 "nbformat_minor": 4
}
