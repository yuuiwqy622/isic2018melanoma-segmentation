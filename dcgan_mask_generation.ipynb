{
 "cells": [
  {
   "cell_type": "code",
   "execution_count": 9,
   "metadata": {},
   "outputs": [],
   "source": [
    "import tensorflow as tf\n",
    "import glob\n",
    "import imageio\n",
    "import matplotlib.pyplot as plt\n",
    "import numpy as np\n",
    "import os\n",
    "from tensorflow.keras.layers import Reshape, Conv2DTranspose, Activation, Conv2D, BatchNormalization, UpSampling2D, GaussianNoise, LeakyReLU, Dropout, AveragePooling2D, Flatten, Dense\n",
    "import time\n",
    "from tensorflow.keras.preprocessing.image import ImageDataGenerator"
   ]
  },
  {
   "cell_type": "code",
   "execution_count": 2,
   "metadata": {},
   "outputs": [
    {
     "name": "stdout",
     "output_type": "stream",
     "text": [
      "Num GPUs Available:  1\n"
     ]
    }
   ],
   "source": [
    "print('Num GPUs Available: ', len(tf.config.list_physical_devices('GPU')))"
   ]
  },
  {
   "cell_type": "code",
   "execution_count": 8,
   "metadata": {},
   "outputs": [],
   "source": [
    "MASK_DIR = 'dataset_200'\n",
    "CHECKPOINT_DIR = 'dcgan/checkpoints'\n",
    "IMAGE_SIZE = 256\n",
    "BATCH_SIZE = 16"
   ]
  },
  {
   "cell_type": "code",
   "execution_count": null,
   "metadata": {},
   "outputs": [],
   "source": [
    "def discriminator_loss(real_output, fake_output):\n",
    "    real_loss = cross_entropy(tf.ones_like(real_output), real_output)\n",
    "    fake_loss = cross_entropy(tf.zeros_like(fake_output), fake_output)\n",
    "    total_loss = real_loss + fake_loss\n",
    "    return total_loss"
   ]
  },
  {
   "cell_type": "code",
   "execution_count": null,
   "metadata": {},
   "outputs": [],
   "source": [
    "def generator_loss(fake_output):\n",
    "    return cross_entropy(tf.ones_like(fake_output), fake_output)"
   ]
  },
  {
   "cell_type": "code",
   "execution_count": 4,
   "metadata": {},
   "outputs": [],
   "source": [
    "def get_generator():\n",
    "    generator = tf.keras.Sequential([\n",
    "        Reshape(target_shape=[1, 1, 4096], input_shape=[4096]),\n",
    "\n",
    "        # 1x1x4096\n",
    "        Conv2DTranspose(filters=256, kernel_size=4),\n",
    "        Activation('relu'),\n",
    "\n",
    "        # 4x4x256 - kernel sized increased by 1\n",
    "        Conv2D(filters=256, kernel_size=4, padding='same'),\n",
    "        BatchNormalization(momentum=0.7),\n",
    "        Activation('relu'),\n",
    "        UpSampling2D(),\n",
    "\n",
    "        # 8x8x256 - kernel sized increased by 1\n",
    "        Conv2D(filters=128, kernel_size=4, padding='same'),\n",
    "        BatchNormalization(momentum=0.7),\n",
    "        Activation('relu'),\n",
    "        UpSampling2D(),\n",
    "\n",
    "        # 16x16x128\n",
    "        Conv2D(filters=64, kernel_size=3, padding='same'),\n",
    "        BatchNormalization(momentum=0.7),\n",
    "        Activation('relu'),\n",
    "        UpSampling2D(),\n",
    "\n",
    "        # 32x32x64\n",
    "        Conv2D(filters=32, kernel_size=3, padding='same'),\n",
    "        BatchNormalization(momentum=0.7),\n",
    "        Activation('relu'),\n",
    "        UpSampling2D(),\n",
    "\n",
    "        # 64x64x32\n",
    "        Conv2D(filters=16, kernel_size=3, padding='same'),\n",
    "        BatchNormalization(momentum=0.7),\n",
    "        Activation('relu'),\n",
    "        UpSampling2D(),\n",
    "\n",
    "        # 128x128x16\n",
    "        Conv2D(filters=8, kernel_size=3, padding='same'),\n",
    "        Activation('relu'),\n",
    "        UpSampling2D(),\n",
    "\n",
    "        # 256x256x8\n",
    "        Conv2D(filters=1, kernel_size=3, padding='same'),\n",
    "        Activation('sigmoid')\n",
    "    ])\n",
    "    return generator"
   ]
  },
  {
   "cell_type": "code",
   "execution_count": 5,
   "metadata": {},
   "outputs": [],
   "source": [
    "def get_discriminator():\n",
    "    discriminator = tf.keras.Sequential([\n",
    "        # Gaussian noise helps to avoid overfitting\n",
    "        GaussianNoise(0.2, input_shape=[256, 256, 1]),\n",
    "\n",
    "        # 256x256x1 Image\n",
    "        Conv2D(filters=8, kernel_size=3, padding='same'),\n",
    "        LeakyReLU(0.2),\n",
    "        Dropout(0.25),\n",
    "        AveragePooling2D(),\n",
    "\n",
    "        # 128x128x8\n",
    "        Conv2D(filters=16, kernel_size=3, padding='same'),\n",
    "        BatchNormalization(momentum=0.7),\n",
    "        LeakyReLU(0.2),\n",
    "        Dropout(0.25),\n",
    "        AveragePooling2D(),\n",
    "\n",
    "        # 64x64x16\n",
    "        Conv2D(filters=32, kernel_size=3, padding='same'),\n",
    "        BatchNormalization(momentum=0.7),\n",
    "        LeakyReLU(0.2),\n",
    "        Dropout(0.25),\n",
    "        AveragePooling2D(),\n",
    "\n",
    "        # 32x32x32\n",
    "        Conv2D(filters=64, kernel_size=3, padding='same'),\n",
    "        BatchNormalization(momentum=0.7),\n",
    "        LeakyReLU(0.2),\n",
    "        Dropout(0.25),\n",
    "        AveragePooling2D(),\n",
    "\n",
    "        # 16x16x64\n",
    "        Conv2D(filters=128, kernel_size=3, padding='same'),\n",
    "        BatchNormalization(momentum=0.7),\n",
    "        LeakyReLU(0.2),\n",
    "        Dropout(0.25),\n",
    "        AveragePooling2D(),\n",
    "\n",
    "        # 8x8x128\n",
    "        Conv2D(filters=256, kernel_size=3, padding='same'),\n",
    "        BatchNormalization(momentum=0.7),\n",
    "        LeakyReLU(0.2),\n",
    "        Dropout(0.25),\n",
    "        AveragePooling2D(),\n",
    "\n",
    "        # 4x4x256\n",
    "        Flatten(),\n",
    "\n",
    "        # 256\n",
    "        Dense(128),\n",
    "        LeakyReLU(0.2),\n",
    "\n",
    "        Dense(1, activation='sigmoid')\n",
    "    ])\n",
    "    return discriminator"
   ]
  },
  {
   "cell_type": "code",
   "execution_count": 18,
   "metadata": {},
   "outputs": [],
   "source": [
    "def binarize(mask):\n",
    "    mask[mask > 0] = 1\n",
    "    return mask"
   ]
  },
  {
   "cell_type": "code",
   "execution_count": 19,
   "metadata": {},
   "outputs": [
    {
     "name": "stdout",
     "output_type": "stream",
     "text": [
      "Found 200 images belonging to 1 classes.\n"
     ]
    }
   ],
   "source": [
    "mask_generator = ImageDataGenerator(\n",
    "    preprocessing_function=binarize\n",
    ")\n",
    "\n",
    "mask_generator = mask_generator.flow_from_directory(\n",
    "    batch_size=BATCH_SIZE,\n",
    "    directory=MASK_DIR,\n",
    "    target_size=(IMAGE_SIZE, IMAGE_SIZE),\n",
    "    class_mode=None,\n",
    "    seed=1,\n",
    "    classes=['mask'],\n",
    "    color_mode='grayscale',\n",
    ")\n",
    "\n",
    "train_masks = tf.data.Dataset.from_generator(\n",
    "    generator=lambda: map(tuple, mask_generator),\n",
    "    output_types=(tf.float32),\n",
    "    output_shapes=[None, 256, 256, 1]\n",
    ")\n"
   ]
  },
  {
   "cell_type": "code",
   "execution_count": 21,
   "metadata": {},
   "outputs": [
    {
     "data": {
      "image/png": "[encoded data removed]",
      "text/plain": [
       "<Figure size 432x288 with 1 Axes>"
      ]
     },
     "metadata": {
      "needs_background": "light"
     },
     "output_type": "display_data"
    },
    {
     "data": {
      "image/png": "[encoded data removed]",
      "text/plain": [
       "<Figure size 432x288 with 1 Axes>"
      ]
     },
     "metadata": {
      "needs_background": "light"
     },
     "output_type": "display_data"
    },
    {
     "data": {
      "image/png": "[encoded data removed]",
      "text/plain": [
       "<Figure size 432x288 with 1 Axes>"
      ]
     },
     "metadata": {
      "needs_background": "light"
     },
     "output_type": "display_data"
    },
    {
     "data": {
      "image/png": "[encoded data removed]",
      "text/plain": [
       "<Figure size 432x288 with 1 Axes>"
      ]
     },
     "metadata": {
      "needs_background": "light"
     },
     "output_type": "display_data"
    },
    {
     "data": {
      "image/png": "[encoded data removed]",
      "text/plain": [
       "<Figure size 432x288 with 1 Axes>"
      ]
     },
     "metadata": {
      "needs_background": "light"
     },
     "output_type": "display_data"
    }
   ],
   "source": [
    "masks = next(mask_generator)\n",
    "\n",
    "for m in list(masks)[:5]:\n",
    "    fig = plt.imshow(m, cmap='gray')\n",
    "    fig.axes.get_xaxis().set_visible(False)\n",
    "    fig.axes.get_yaxis().set_visible(False)\n",
    "    plt.show()"
   ]
  },
  {
   "cell_type": "code",
   "execution_count": 22,
   "metadata": {},
   "outputs": [],
   "source": [
    "generator = get_generator()\n",
    "discriminator = get_discriminator()\n",
    "\n",
    "cross_entropy = tf.keras.losses.BinaryCrossentropy(from_logits=False)\n",
    "\n",
    "generator_optimizer = tf.keras.optimizers.Adam(1e-4)\n",
    "discriminator_optimizer = tf.keras.optimizers.Adam(1e-4)"
   ]
  }
 ],
 "metadata": {
  "kernelspec": {
   "display_name": "Python 3",
   "language": "python",
   "name": "python3"
  },
  "language_info": {
   "codemirror_mode": {
    "name": "ipython",
    "version": 3
   },
   "file_extension": ".py",
   "mimetype": "text/x-python",
   "name": "python",
   "nbconvert_exporter": "python",
   "pygments_lexer": "ipython3",
   "version": "3.9.2"
  }
 },
 "nbformat": 4,
 "nbformat_minor": 4
}
